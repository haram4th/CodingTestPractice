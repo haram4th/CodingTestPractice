{
 "cells": [
  {
   "cell_type": "markdown",
   "metadata": {},
   "source": [
    "문제: 손님에게 거슬러 줘야 할 돈이 N원일 때 거슬러 줘야 할 동전의 최소 개수를 구하라"
   ]
  },
  {
   "cell_type": "code",
   "execution_count": 16,
   "metadata": {
    "ExecuteTime": {
     "end_time": "2021-04-06T02:53:12.788209Z",
     "start_time": "2021-04-06T02:53:12.770338Z"
    }
   },
   "outputs": [
    {
     "name": "stdout",
     "output_type": "stream",
     "text": [
      "500 = 25\n",
      "100 = 0\n",
      "50 = 1\n",
      "10 = 1\n"
     ]
    }
   ],
   "source": [
    "total = 12560\n",
    "coins = [500,100,50,10]\n",
    "counts = 0\n",
    "for coin in coins:\n",
    "    counts = total //coin\n",
    "    total -= counts * coin\n",
    "    print(coin, \"=\", counts)\n",
    "    "
   ]
  },
  {
   "cell_type": "markdown",
   "metadata": {},
   "source": [
    "문제: 배열의 크기 N, 숫자가 더해지는 횟수 M, 그리고 최대 반복 횟수 K가 주어질 때 동빈이의 큰 수의 법칙에 따른 결과를 출력하시오.\n",
    "입력조건: 첫째 줄에 N(2 <= N <= 1,000), M(1 <= M <= 10,000), K(1 <= K <= 10,000)의 자연수가 주어지며, 각 자연수는 공백으로 구분한다.\n",
    "          둘째 줄에 N개의 자연수가 주어진다. 각 자연수는 공백으로 구분한다. 단, 각각의 자연수는 1이상 10,000 이하의 수로 주어진다.\n",
    "          입력으로 주어지는 K는 항상 M 보다 작거나 같다.\n",
    "출력조건: 첫째 줄에 동빈이의 큰 수의 법칙에 따라 더해진 답을 출력한다."
   ]
  },
  {
   "cell_type": "code",
   "execution_count": 63,
   "metadata": {
    "ExecuteTime": {
     "end_time": "2021-04-06T11:33:09.094566Z",
     "start_time": "2021-04-06T11:33:05.239008Z"
    }
   },
   "outputs": [
    {
     "name": "stdout",
     "output_type": "stream",
     "text": [
      "5 8 3\n",
      "6 5\n",
      "46\n"
     ]
    }
   ],
   "source": [
    "import random as r\n",
    "\n",
    "n, m, k = map(int, input().split())\n",
    "\n",
    "\n",
    "num = [2,4,5,4,6]\n",
    "# for i in range(n):\n",
    "#     j = r.randint(1,10000)\n",
    "#     num.append(j)\n",
    "\n",
    "num.sort(reverse=True)\n",
    "first = num[0]\n",
    "second = num[1]\n",
    "print(first, second)\n",
    "\n",
    "no = 0\n",
    "hap = 0\n",
    "i= 0\n",
    "j=1\n",
    "for i in range(m):\n",
    "    if j <= k:\n",
    "        hap += first\n",
    "        j += 1\n",
    "    else:\n",
    "        hap += second\n",
    "        j=1\n",
    "print(hap) \n",
    "        \n",
    "       "
   ]
  }
 ],
 "metadata": {
  "kernelspec": {
   "display_name": "Python [conda env:mdai] *",
   "language": "python",
   "name": "conda-env-mdai-py"
  },
  "language_info": {
   "codemirror_mode": {
    "name": "ipython",
    "version": 3
   },
   "file_extension": ".py",
   "mimetype": "text/x-python",
   "name": "python",
   "nbconvert_exporter": "python",
   "pygments_lexer": "ipython3",
   "version": "3.8.5"
  }
 },
 "nbformat": 4,
 "nbformat_minor": 4
}
